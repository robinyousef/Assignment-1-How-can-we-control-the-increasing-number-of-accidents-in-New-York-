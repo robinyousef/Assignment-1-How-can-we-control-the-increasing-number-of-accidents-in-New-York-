{
 "cells": [
  {
   "cell_type": "markdown",
   "metadata": {},
   "source": [
    "# Assignment 1"
   ]
  },
  {
   "cell_type": "markdown",
   "metadata": {},
   "source": [
    "## *How can we control the increasing number of accidents in New York?*"
   ]
  },
  {
   "cell_type": "code",
   "execution_count": 1,
   "metadata": {},
   "outputs": [],
   "source": [
    "import json\n",
    "import requests\n",
    "from bs4 import BeautifulSoup\n",
    "import pandas as pd\n",
    "import matplotlib.pyplot as plt\n",
    "import seaborn as sns\n",
    "import numpy"
   ]
  },
  {
   "cell_type": "markdown",
   "metadata": {},
   "source": [
    "## Introduction"
   ]
  },
  {
   "cell_type": "markdown",
   "metadata": {},
   "source": [
    "**Business Context.** The city of New York has seen a rise in the number of accidents on the roads in the city. They would like to know if the number of accidents have increased in the last few weeks. For all the reported accidents, they have collected details for each accident and have been maintaining records for the past year and a half (from January 2018 to August 2019). \n",
    "\n",
    "The city has contracted you to build visualizations that would help them identify patterns in accidents, which would help them take preventive actions to reduce the number of accidents in the future. They have certain parameters like borough, time of day, reason for accident, etc. Which they care about and which they would like to get specific information on."
   ]
  },
  {
   "cell_type": "markdown",
   "metadata": {},
   "source": [
    "**Business Problem.** Your task is to format the given data and provide visualizations that would answer the specific questions the client has, which are mentioned below."
   ]
  },
  {
   "cell_type": "markdown",
   "metadata": {},
   "source": [
    "**Analytical Context.** You are given a CSV file (stored in the already created ```data``` folder) containing details about each accident like date, time, location of the accident, reason for the accident, types of vehicles involved, injury and death count, etc. The delimiter in the given CSV file is `;` instead of the default `,`. You will be performing the following tasks on the data:\n",
    "\n",
    "1. Extract additional borough data stored in a JSON file\n",
    "2. Read, transform, and prepare data for visualization\n",
    "3. Perform analytics and construct visualizations of the data to identify patterns in the dataset\n",
    "        \n",
    "The client has a specific set of questions they would like to get answers to. You will need to provide visualizations to accompany these:\n",
    "\n",
    "1. How have the number of accidents fluctuated over the past year and a half? Have they increased over the time?\n",
    "2. For any particular day, during which hours are accidents most likely to occur?\n",
    "3. Are there more accidents on weekdays than weekends?\n",
    "4. What are the accidents count-to-area ratio per borough? Which boroughs have disproportionately large numbers of accidents for their size?\n",
    "5. For each borough, during which hours are accidents most likely to occur?\n",
    "6. What are the top 5 causes of accidents in the city? \n",
    "7. What types of vehicles are most involved in accidents per borough?\n",
    "8. What types of vehicles are most involved in deaths?"
   ]
  },
  {
   "cell_type": "markdown",
   "metadata": {},
   "source": [
    "## Fetching the relevant data"
   ]
  },
  {
   "cell_type": "markdown",
   "metadata": {},
   "source": [
    "The client has requested analysis of the accidents-to-area ratio for boroughs. Borough data is stored in a JSON file in the ```data``` folder."
   ]
  },
  {
   "cell_type": "markdown",
   "metadata": {},
   "source": [
    "### Question (5 min):\n",
    "\n",
    "Use the function ```json.load()``` to load the file ```borough_data.json``` as a dictionary."
   ]
  },
  {
   "cell_type": "markdown",
   "metadata": {
    "tags": [
     "ans_st"
    ]
   },
   "source": [
    "**Answer.** One possible solution is given below:"
   ]
  },
  {
   "cell_type": "code",
   "execution_count": 2,
   "metadata": {
    "tags": [
     "ans_cell"
    ]
   },
   "outputs": [
    {
     "data": {
      "text/plain": [
       "{'the bronx': {'name': 'the bronx', 'population': 1471160.0, 'area': 42.1},\n",
       " 'brooklyn': {'name': 'brooklyn', 'population': 2648771.0, 'area': 70.82},\n",
       " 'manhattan': {'name': 'manhattan', 'population': 1664727.0, 'area': 22.83},\n",
       " 'queens': {'name': 'queens', 'population': 2358582.0, 'area': 108.53},\n",
       " 'staten island': {'name': 'staten island',\n",
       "  'population': 479458.0,\n",
       "  'area': 58.37}}"
      ]
     },
     "execution_count": 2,
     "metadata": {},
     "output_type": "execute_result"
    }
   ],
   "source": [
    "with open('data/borough_data.json') as f:\n",
    "    borough_data=json.load(f)\n",
    "    \n",
    "borough_data"
   ]
  },
  {
   "cell_type": "markdown",
   "metadata": {},
   "source": [
    "### Question (5 min):\n",
    "\n",
    "Similarly, use the pandas function ```read_csv()``` to load the file ```accidents.csv``` as a DataFrame. Name this DataFrame ```df```. "
   ]
  },
  {
   "cell_type": "markdown",
   "metadata": {
    "tags": [
     "ans_st"
    ]
   },
   "source": [
    "**Answer.** One possible solution is given below:"
   ]
  },
  {
   "cell_type": "code",
   "execution_count": 3,
   "metadata": {
    "tags": [
     "ans_cell"
    ]
   },
   "outputs": [],
   "source": [
    "with open('data/accidents.csv') as f:\n",
    "    df=pd.read_csv(f, delimiter=';')"
   ]
  },
  {
   "cell_type": "markdown",
   "metadata": {},
   "source": [
    "## Overview of the data"
   ]
  },
  {
   "cell_type": "markdown",
   "metadata": {},
   "source": [
    "Let's go through the columns present in the dataframe:"
   ]
  },
  {
   "cell_type": "code",
   "execution_count": 4,
   "metadata": {},
   "outputs": [
    {
     "data": {
      "text/plain": [
       "Index(['DATE', 'TIME', 'BOROUGH', 'ZIP CODE', 'LATITUDE', 'LONGITUDE',\n",
       "       'ON STREET NAME', 'NUMBER OF PEDESTRIANS INJURED',\n",
       "       'NUMBER OF PEDESTRIANS KILLED', 'NUMBER OF CYCLIST INJURED',\n",
       "       'NUMBER OF CYCLIST KILLED', 'NUMBER OF MOTORIST INJURED',\n",
       "       'NUMBER OF MOTORIST KILLED', 'CONTRIBUTING FACTOR VEHICLE 1',\n",
       "       'CONTRIBUTING FACTOR VEHICLE 2', 'CONTRIBUTING FACTOR VEHICLE 3',\n",
       "       'CONTRIBUTING FACTOR VEHICLE 4', 'CONTRIBUTING FACTOR VEHICLE 5',\n",
       "       'COLLISION_ID', 'VEHICLE TYPE CODE 1', 'VEHICLE TYPE CODE 2',\n",
       "       'VEHICLE TYPE CODE 3', 'VEHICLE TYPE CODE 4', 'VEHICLE TYPE CODE 5'],\n",
       "      dtype='object')"
      ]
     },
     "execution_count": 4,
     "metadata": {},
     "output_type": "execute_result"
    }
   ],
   "source": [
    "df.columns"
   ]
  },
  {
   "cell_type": "markdown",
   "metadata": {},
   "source": [
    "We have the following columns\n",
    "\n",
    "1. **BOROUGH**: The borough in which the accident occured\n",
    "2. **COLLISION_ID**: A unique identifier for this collision\n",
    "3. **CONTRIBUTING FACTOR VEHICLE (1, 2, 3, 4, 5)**: Reasons for the accident\n",
    "4. **CROSS STREET NAME**: Nearest cross street to the place of accidents\n",
    "5. **DATE**: Date of the accident\n",
    "6. **TIME**: Time of accident\n",
    "7. **LATITUDE**: Latitude of the accident\n",
    "8. **LONGITUDE**: Longitude of the accident\n",
    "9. **NUMBER OF (CYCLISTS, MOTORISTS, PEDESTRIANS) INJURED**: Category wise injury\n",
    "10. **NUMBER OF (CYCLISTS, MOTORISTS, PEDESTRIANS) KILLED**: Category wise death\n",
    "11. **ON STREET NAME**: Street where the accident occured\n",
    "13. **VEHICLE TYPE CODE (1, 2, 3, 4, 5)**: Types of vehicles involved in the accident\n",
    "14. **ZIP CODE**: zip code of the accident location"
   ]
  },
  {
   "cell_type": "markdown",
   "metadata": {},
   "source": [
    "### Exercise 1 (30 min):\n",
    "\n",
    "Since 2014, New York City has been implementing a road safety plan named [Vision Zero](https://www1.nyc.gov/content/visionzero/pages/). It aims to reduce the number of traffic deaths to *zero* by the end of 2024. The plan is creating new and enhancing current safety measures, some of these include:\n",
    "\n",
    "- [ ] Automated pedestrian detection\n",
    "- [ ] Road safety audits at high risk locations\n",
    "- [ ] Expansion in the cycle track network\n",
    "- [ ] Targeted education and awareness initiatives\n",
    "- [ ] Creation of pedestrian refuge islands\n",
    "- [ ] Launch Integrated Data-Driven Speed Reducer Program (speed humps & speed cushions)\n",
    "\n",
    "Which of these initiatives could directly benefit from an analysis of the data provided? Check all that apply.\n",
    "\n",
    "**Note:** You can create check marks by double-clicking this cell and adding an ```[x]``` in the corresponding lines. "
   ]
  },
  {
   "cell_type": "markdown",
   "metadata": {
    "tags": [
     "ans_st"
    ]
   },
   "source": [
    "**Answer.**\n",
    "\n",
    "- [ ] Automated pedestrian detection\n",
    "\n",
    "The data provided contains the exact location, the number of pedestrians injured/killed, and the contributing factor of the vehicles in each accident. We could study the accidents where pedestrians were injured or killed. This *could* help to place cameras at important spots, where the automatic detection may be needed. However, for the *implementation* of automated pedestrian detection, a data set of images of crosswalks and intersections is more crucial.\n",
    "\n",
    "- [x] Road safety audits at high risk locations\n",
    "\n",
    "As discussed, our data can help with the recognition of problematic spots. We can check the street names where a high number of accidents have occured in the past, then inspect the area to see what extra measures should be implemented. \n",
    "\n",
    "- [ ] Expansion in the cycle track network\n",
    "\n",
    "Our data contains the number of cyclists injured/killed. We could determine the spots where these are happening the most and then improve the safety measures around the area. However, we would need more data to determine if these locations have a high volume of cyclists. Thus the data may not be that beneficial for making decisions on expanding the cycle network.\n",
    "\n",
    "- [x] Targeted education and awareness initiatives\n",
    "\n",
    "The data provides the contributing factor of the accidents along with the type of vehicles that were involved in them. We can then study which types of vehicles cause the most number of accidents and organize educational initiatives around this.\n",
    "\n",
    "- [ ] Creation of pedestrian refuge islands\n",
    "\n",
    "Pedestrian islands are usually created on streets that are very wide. Thus, the information provided might not be that beneficial for this initiative, as we do not have information on the width/size of streets.\n",
    "\n",
    "- [x] Launch Integrated Data-Driven Speed Reducer Program (speed humps & speed cushions)\n",
    "\n",
    "One of the contributing factors in accidents provided in the data is speeding. We can check if these accidents occur in highly transited areas. Thus, our data might be useful for the implementation of this initiative."
   ]
  },
  {
   "cell_type": "markdown",
   "metadata": {},
   "source": [
    "Let's go ahead and answer each of the client's questions."
   ]
  },
  {
   "cell_type": "markdown",
   "metadata": {},
   "source": [
    "## Answering the client's questions"
   ]
  },
  {
   "cell_type": "markdown",
   "metadata": {},
   "source": [
    "### Exercise 2 (30 min):\n",
    "\n",
    "Group the available data on a monthly basis and generate a line plot of accidents over time. Has the number of accidents increased over the past year and a half?\n",
    "\n",
    "**Hint**: You may find the pandas functions ```to_datetime()``` and ```dt.to_period()``` useful."
   ]
  },
  {
   "cell_type": "markdown",
   "metadata": {
    "tags": [
     "ans_st"
    ]
   },
   "source": [
    "**Answer.** One possible solution is given below:"
   ]
  },
  {
   "cell_type": "code",
   "execution_count": 5,
   "metadata": {
    "tags": [
     "ans_cell"
    ]
   },
   "outputs": [
    {
     "data": {
      "text/plain": [
       "<AxesSubplot:xlabel='DATE'>"
      ]
     },
     "execution_count": 5,
     "metadata": {},
     "output_type": "execute_result"
    },
    {
     "data": {
      "image/png": "[encoded data removed]",
      "text/plain": [
       "<Figure size 640x480 with 1 Axes>"
      ]
     },
     "metadata": {},
     "output_type": "display_data"
    }
   ],
   "source": [
    "#First we need to change the format of the column DATE to datetime:\n",
    "df['DATE']=pd.to_datetime(df['DATE'])\n",
    "\n",
    "#Then, check whether the number of accidents has increased over time\n",
    "monthly_accidents = df.groupby(df['DATE'].dt.to_period('M')).size()\n",
    "monthly_accidents.plot.line()"
   ]
  },
  {
   "cell_type": "markdown",
   "metadata": {
    "tags": [
     "ans_cell"
    ]
   },
   "source": [
    "The line graph we plotted clearly shows that there is no obvious uptrend in accidents over time."
   ]
  },
  {
   "cell_type": "markdown",
   "metadata": {},
   "source": [
    "### Exercise 3 (15 min):\n",
    "\n",
    "From the plot above, which months seem to have the least number of accidents? What do you think are the reasons behind this?"
   ]
  },
  {
   "cell_type": "markdown",
   "metadata": {
    "tags": [
     "ans_st"
    ]
   },
   "source": [
    "**Answer.** Here is one possible solution.\n",
    "\n",
    "We notice that August of 2019 is the month with the lowest number of accidents, but this is probably due to the fact that there is not a complete record for this month: ```max(df['DATE'])=Timestamp('2019-08-24 00:00:00')```. Namely, the entire final week of data is missing.\n",
    "\n",
    "Disregarding this month, the lowest number of accidents appear to happen in February. This is the month of the year with the lowest temperatures and road conditions might get a little complicated. Thus, people may prefer to use public transportation and avoid going out as much as possible due to the cold weather. This is in contrast with summer, where people are prone to go out and more accidents may occur.   "
   ]
  },
  {
   "cell_type": "markdown",
   "metadata": {},
   "source": [
    "### Exercise 4 (30 min):\n",
    "\n",
    "How does the number of accidents vary throughout a single day? Create a new column `HOUR` based on the data from the `TIME` column, then plot a bar graph of the distribution per hour throughout the day.\n",
    "\n",
    "**Hint:** You may find the function ```dt.hour``` useful. "
   ]
  },
  {
   "cell_type": "markdown",
   "metadata": {
    "tags": [
     "ans_st"
    ]
   },
   "source": [
    "**Answer.** One possible solution is given below:"
   ]
  },
  {
   "cell_type": "code",
   "execution_count": 6,
   "metadata": {
    "tags": [
     "ans_cell"
    ]
   },
   "outputs": [
    {
     "data": {
      "text/plain": [
       "<AxesSubplot:xlabel='HOUR'>"
      ]
     },
     "execution_count": 6,
     "metadata": {},
     "output_type": "execute_result"
    },
    {
     "data": {
      "image/png": "[encoded data removed]",
      "text/plain": [
       "<Figure size 640x480 with 1 Axes>"
      ]
     },
     "metadata": {},
     "output_type": "display_data"
    }
   ],
   "source": [
    "#Firt change the format of the TIME column\n",
    "df['TIME']=pd.to_datetime(df['TIME'])\n",
    "\n",
    "# Create a new hour column \n",
    "df['HOUR'] = df['TIME'].dt.hour\n",
    "\n",
    "# Find out how the number of accidents varies across hours. \n",
    "hourly_accidents = df.groupby('HOUR').size()\n",
    "hourly_accidents.plot.bar()"
   ]
  },
  {
   "cell_type": "markdown",
   "metadata": {},
   "source": [
    "From this, we see that more accidents occur in the afternoon (2 - 6 PM) than at other times of day."
   ]
  },
  {
   "cell_type": "markdown",
   "metadata": {},
   "source": [
    "### Exercise 5 (15 min):\n",
    "\n",
    "In the above question we have aggregated the number accidents per hour disregarding the date and place of ocurrence. Which criticism would you give to this approach?"
   ]
  },
  {
   "cell_type": "markdown",
   "metadata": {
    "tags": [
     "ans_st"
    ]
   },
   "source": [
    "**Answer.** Here is one possible solution.\n",
    "\n",
    "Aggregating the data will be a problem if the disregarded variables exhibit large degrees of variation and are not distributed very evenly. It may be the case that the concetration of accidents in some zones of the city happen at different times of the day, yet by aggregating the data we may falsely conclude that accidents are constant in the entire city. Probably, residential zones are busy around 5 - 7pm, but commercial or manufaturing zones might be busy around 3 - 5pm. This information is important if the client is interested in designing a deployment plan for police officers to litigate traffic accidents, yet will be missed if we aggregate across all places of occurrence."
   ]
  },
  {
   "cell_type": "markdown",
   "metadata": {},
   "source": [
    "### Exercise 6 (15 min):\n",
    "\n",
    "How does the number of accidents vary throughout a single week? Plot a bar graph based on the accidents count by day of the week.\n",
    "\n",
    "**Hint:** You may find the function ```dt.weekday``` useful."
   ]
  },
  {
   "cell_type": "markdown",
   "metadata": {
    "tags": [
     "ans_st"
    ]
   },
   "source": [
    "**Answer.** One possible solution is given below:"
   ]
  },
  {
   "cell_type": "code",
   "execution_count": 7,
   "metadata": {
    "tags": [
     "ans_cell"
    ]
   },
   "outputs": [
    {
     "data": {
      "text/plain": [
       "<AxesSubplot:xlabel='WEEKDAY'>"
      ]
     },
     "execution_count": 7,
     "metadata": {},
     "output_type": "execute_result"
    },
    {
     "data": {
      "image/png": "[encoded data removed]",
      "text/plain": [
       "<Figure size 640x480 with 1 Axes>"
      ]
     },
     "metadata": {},
     "output_type": "display_data"
    }
   ],
   "source": [
    "df['WEEKDAY'] = df['DATE'].dt.weekday\n",
    "weekday_accidents = df.groupby('WEEKDAY').size()\n",
    "weekday_accidents.plot.bar()"
   ]
  },
  {
   "cell_type": "markdown",
   "metadata": {
    "tags": [
     "ans_cell"
    ]
   },
   "source": [
    "There are relatively fewer accidents on weekends than weekdays."
   ]
  },
  {
   "cell_type": "markdown",
   "metadata": {},
   "source": [
    "### Exercise 7 (30 min):\n",
    "\n",
    "Plot a bar graph of the total number of accidents in each borough, as well as one of the accidents per square mile per borough. What can you conclude?\n",
    "\n",
    "**Hint:** You may want to update some of the keys in the borough dictionary to match the names in the dataframe. "
   ]
  },
  {
   "cell_type": "markdown",
   "metadata": {
    "tags": [
     "ans_st"
    ]
   },
   "source": [
    "**Answer.** One possible solution is given below:"
   ]
  },
  {
   "cell_type": "code",
   "execution_count": 8,
   "metadata": {
    "tags": [
     "ans_cell"
    ]
   },
   "outputs": [
    {
     "data": {
      "text/plain": [
       "<AxesSubplot:xlabel='BOROUGH'>"
      ]
     },
     "execution_count": 8,
     "metadata": {},
     "output_type": "execute_result"
    },
    {
     "data": {
      "image/png": "[encoded data removed]",
      "text/plain": [
       "<Figure size 640x480 with 1 Axes>"
      ]
     },
     "metadata": {},
     "output_type": "display_data"
    }
   ],
   "source": [
    "boroughs = df.groupby('BOROUGH').size()\n",
    "boroughs.plot.bar()"
   ]
  },
  {
   "cell_type": "markdown",
   "metadata": {
    "tags": [
     "ans_cell"
    ]
   },
   "source": [
    "We can see that Brooklyn and Queens have a very high number of accidents relative to the other three boroughs. But how about per square mile?"
   ]
  },
  {
   "cell_type": "code",
   "execution_count": 9,
   "metadata": {
    "tags": [
     "ans_cell"
    ]
   },
   "outputs": [
    {
     "name": "stdout",
     "output_type": "stream",
     "text": [
      "dict_keys(['the bronx', 'brooklyn', 'manhattan', 'queens', 'staten island'])\n",
      "['BRONX' 'BROOKLYN' 'QUEENS' 'MANHATTAN' 'STATEN ISLAND']\n"
     ]
    }
   ],
   "source": [
    "# Update keys in borough data\n",
    "print(borough_data.keys())\n",
    "print(df['BOROUGH'].unique())\n",
    "\n",
    "# Since there are differences in the text used in the data and Wikipedia data, let's update it\n",
    "borough_data['bronx'] = borough_data.pop('the bronx')"
   ]
  },
  {
   "cell_type": "markdown",
   "metadata": {
    "tags": [
     "ans_cell"
    ]
   },
   "source": [
    "We have now got the keys to match in the dictionary and the dataframe. The difference in case can be handled by making the mapping action case-insensitive. This can be done by either converting the dictionary keys to uppercase, or the dataframe data to lowercase.\n",
    "\n",
    "Let's do that and plot `accidents_per_sq_mi`, which is the accidents-to-area ratio:"
   ]
  },
  {
   "cell_type": "code",
   "execution_count": 10,
   "metadata": {
    "tags": [
     "ans_cell"
    ]
   },
   "outputs": [
    {
     "data": {
      "text/plain": [
       "<AxesSubplot:xlabel='borough'>"
      ]
     },
     "execution_count": 10,
     "metadata": {},
     "output_type": "execute_result"
    },
    {
     "data": {
      "image/png": "[encoded data removed]",
      "text/plain": [
       "<Figure size 640x480 with 1 Axes>"
      ]
     },
     "metadata": {},
     "output_type": "display_data"
    }
   ],
   "source": [
    "borough_frame = pd.DataFrame(boroughs)\n",
    "borough_frame.columns = ['count']\n",
    "borough_frame['borough'] = borough_frame.index\n",
    "\n",
    "borough_frame['accidents_per_sq_mi'] = borough_frame.apply(lambda x: x['count'] / borough_data[x['borough'].lower()]['area'], axis=1)\n",
    "borough_frame.plot.bar(x='borough', y='accidents_per_sq_mi')"
   ]
  },
  {
   "cell_type": "markdown",
   "metadata": {
    "tags": [
     "ans_cell"
    ]
   },
   "source": [
    "When looking at the `accidents_per_sq_mi` parameter, Manhattan tops the list by a wide margin. This clearly shows that even though Brooklyn and Queens have more total accidents, Manhattan has a much higher concentration of accidents."
   ]
  },
  {
   "cell_type": "markdown",
   "metadata": {},
   "source": [
    "### Exercise 8 (30 min):\n",
    "\n",
    "Which hours have the most accidents for each borough? Plot a bar graph for each borough showing the number of accidents for each hour of the day.\n",
    "\n",
    "**Hint:** You can use ```sns.FacetGrid``` to create a grid of plots with the hourly data of each borough. "
   ]
  },
  {
   "cell_type": "markdown",
   "metadata": {
    "tags": [
     "ans_st"
    ]
   },
   "source": [
    "**Answer.** One possible solution is given below:"
   ]
  },
  {
   "cell_type": "code",
   "execution_count": 11,
   "metadata": {
    "tags": [
     "ans_cell"
    ]
   },
   "outputs": [
    {
     "name": "stderr",
     "output_type": "stream",
     "text": [
      "/Users/robin/opt/anaconda3/lib/python3.9/site-packages/seaborn/axisgrid.py:670: UserWarning: Using the barplot function without specifying `order` is likely to produce an incorrect plot.\n",
      "  warnings.warn(warning)\n"
     ]
    },
    {
     "data": {
      "text/plain": [
       "<seaborn.axisgrid.FacetGrid at 0x7fc4770d82e0>"
      ]
     },
     "execution_count": 11,
     "metadata": {},
     "output_type": "execute_result"
    },
    {
     "data": {
      "image/png": "[encoded data removed]",
      "text/plain": [
       "<Figure size 1800x600 with 5 Axes>"
      ]
     },
     "metadata": {},
     "output_type": "display_data"
    }
   ],
   "source": [
    "df1 = pd.DataFrame({'count': df.groupby(['BOROUGH', 'HOUR']).size()})\n",
    "df1 = df1.reset_index()\n",
    "\n",
    "chart = sns.FacetGrid(df1, col='BOROUGH', margin_titles=True, col_wrap=3, aspect=2, row_order=df['BOROUGH'].unique)\n",
    "chart.map(sns.barplot, 'HOUR', 'count',)"
   ]
  },
  {
   "cell_type": "markdown",
   "metadata": {},
   "source": [
    "**Is the number of accidents higher at different times in different boroughs? Should we concentrate at different times for each borough?**"
   ]
  },
  {
   "cell_type": "markdown",
   "metadata": {},
   "source": [
    "We can see that in all the boroughs the accident count is highest from approximately 2 - 6PM. But in Manhattan and the Bronx, you can see that there is not as much of a relative increase during these hours as in Brooklyn or Queens. Additionally, Staten Island has the lowest overall number of accidents."
   ]
  },
  {
   "cell_type": "markdown",
   "metadata": {},
   "source": [
    "### Exercise 9 (45 min):\n",
    "\n",
    "What factors cause the most accidents? Avoid double counting the contributing factors of a single accident. \n",
    "\n",
    "**Hint:** One way of dealing with repetitions is to concatenate the corresponding columns while preserving their indexes, you can do that with the functions ```pd.concat()``` and  ```reset_index()```. Then, use an appropiate ```group_by``` to count the number of repetitions of contributed factors per accident.   "
   ]
  },
  {
   "cell_type": "markdown",
   "metadata": {
    "tags": [
     "ans_st"
    ]
   },
   "source": [
    "**Answer**. Here we show two possible solutions. Notice how the first solution is more efficient than the second one. \n",
    "\n",
    "**Solution 1**\n",
    "\n",
    "The first solution uses the hint provided in the question. "
   ]
  },
  {
   "cell_type": "code",
   "execution_count": 12,
   "metadata": {
    "tags": [
     "ans_cell"
    ]
   },
   "outputs": [
    {
     "data": {
      "text/html": [
       "<div>\n",
       "<style scoped>\n",
       "    .dataframe tbody tr th:only-of-type {\n",
       "        vertical-align: middle;\n",
       "    }\n",
       "\n",
       "    .dataframe tbody tr th {\n",
       "        vertical-align: top;\n",
       "    }\n",
       "\n",
       "    .dataframe thead th {\n",
       "        text-align: right;\n",
       "    }\n",
       "</style>\n",
       "<table border=\"1\" class=\"dataframe\">\n",
       "  <thead>\n",
       "    <tr style=\"text-align: right;\">\n",
       "      <th></th>\n",
       "      <th>FACTOR</th>\n",
       "      <th>0</th>\n",
       "    </tr>\n",
       "  </thead>\n",
       "  <tbody>\n",
       "    <tr>\n",
       "      <th>0</th>\n",
       "      <td>Unspecified</td>\n",
       "      <td>190096</td>\n",
       "    </tr>\n",
       "    <tr>\n",
       "      <th>1</th>\n",
       "      <td>Driver Inattention/Distraction</td>\n",
       "      <td>61752</td>\n",
       "    </tr>\n",
       "    <tr>\n",
       "      <th>2</th>\n",
       "      <td>Failure to Yield Right-of-Way</td>\n",
       "      <td>19641</td>\n",
       "    </tr>\n",
       "    <tr>\n",
       "      <th>3</th>\n",
       "      <td>Following Too Closely</td>\n",
       "      <td>17293</td>\n",
       "    </tr>\n",
       "    <tr>\n",
       "      <th>4</th>\n",
       "      <td>Backing Unsafely</td>\n",
       "      <td>14835</td>\n",
       "    </tr>\n",
       "    <tr>\n",
       "      <th>5</th>\n",
       "      <td>Passing Too Closely</td>\n",
       "      <td>12631</td>\n",
       "    </tr>\n",
       "  </tbody>\n",
       "</table>\n",
       "</div>"
      ],
      "text/plain": [
       "                           FACTOR       0\n",
       "0                     Unspecified  190096\n",
       "1  Driver Inattention/Distraction   61752\n",
       "2   Failure to Yield Right-of-Way   19641\n",
       "3           Following Too Closely   17293\n",
       "4                Backing Unsafely   14835\n",
       "5             Passing Too Closely   12631"
      ]
     },
     "execution_count": 12,
     "metadata": {},
     "output_type": "execute_result"
    }
   ],
   "source": [
    "columns = ['CONTRIBUTING FACTOR VEHICLE 1', 'CONTRIBUTING FACTOR VEHICLE 2', \n",
    "           'CONTRIBUTING FACTOR VEHICLE 3', 'CONTRIBUTING FACTOR VEHICLE 4',\n",
    "          'CONTRIBUTING FACTOR VEHICLE 5']\n",
    "\n",
    "#First, we concatenate all the corresponding columns into a big data-frame\n",
    "frames=[df[column].reset_index().rename(columns={column:'FACTOR'}) for column in columns]\n",
    "factors_df=pd.concat(frames)\n",
    "\n",
    "\n",
    "#The reasoning behind doing reset_index() is that we can use a groupby on the indexes to delete repetitions as follows:\n",
    "no_rep_factors=factors_df.groupby(['index','FACTOR']).size().reset_index()\n",
    "\n",
    "#The data frame we are looking for is given by\n",
    "final_df=no_rep_factors.groupby(['FACTOR']).size()\n",
    "\n",
    "#Since we want to search for the most common factors of accidents, we can do the following:\n",
    "final_df=final_df.sort_values(ascending=False).reset_index()\n",
    "final_df.head(6)"
   ]
  },
  {
   "cell_type": "markdown",
   "metadata": {
    "tags": [
     "ans_cell"
    ]
   },
   "source": [
    "**Solution 2**\n",
    "\n",
    "Since the data is present in multiple columns (`CONTRIBUTING FACTOR VEHICLE 1 - 5`) and repetitions may occur, let us first create a new column having unique factors per accident. After that, we count the number of appearances of each factor across the rows. "
   ]
  },
  {
   "cell_type": "code",
   "execution_count": 13,
   "metadata": {
    "tags": [
     "ans_cell"
    ]
   },
   "outputs": [],
   "source": [
    "df['unique factors'] =df.apply(lambda x: set([x[column] for column in columns if x[column]]), axis=1)\n",
    "factors_count = {}\n",
    "for index, row in df.iterrows():\n",
    "    for factor in row['unique factors']:\n",
    "        count = factors_count.get(factor, 0)\n",
    "        count += 1\n",
    "        factors_count[factor] = count\n",
    "factor_count = sorted(factors_count.items(), key=lambda x: x[1], reverse=True)"
   ]
  },
  {
   "cell_type": "code",
   "execution_count": 14,
   "metadata": {
    "tags": [
     "ans_cell"
    ]
   },
   "outputs": [
    {
     "data": {
      "text/plain": [
       "[(nan, 237730),\n",
       " ('Unspecified', 190096),\n",
       " ('Driver Inattention/Distraction', 61752),\n",
       " ('Failure to Yield Right-of-Way', 19641),\n",
       " ('Following Too Closely', 17293),\n",
       " ('Backing Unsafely', 14835),\n",
       " ('Passing Too Closely', 12631),\n",
       " ('Passing or Lane Usage Improper', 11808),\n",
       " ('Other Vehicular', 8860),\n",
       " ('Unsafe Lane Changing', 6643)]"
      ]
     },
     "execution_count": 14,
     "metadata": {},
     "output_type": "execute_result"
    }
   ],
   "source": [
    "factor_count[:10]"
   ]
  },
  {
   "cell_type": "markdown",
   "metadata": {
    "tags": [
     "ans_cell"
    ]
   },
   "source": [
    "The top 5 causes are:\n",
    "\n",
    "1. Driver Inattention/Distraction\n",
    "2. Failure to Yield Right-of-Way\n",
    "3. Following Too Closely\n",
    "4. Backing Unsafely \n",
    "5. Passing Too Close"
   ]
  },
  {
   "cell_type": "markdown",
   "metadata": {},
   "source": [
    "### Exercise 10 (45 min):\n",
    "\n",
    "Which vehicle types are most involved in accidents per borough? Avoid double counting the type of vehicles present in a single accident. \n",
    "\n",
    "**Hint:** You can apply a similar approach to the one used in the previous question."
   ]
  },
  {
   "cell_type": "markdown",
   "metadata": {
    "tags": [
     "ans_st"
    ]
   },
   "source": [
    "**Answer.** "
   ]
  },
  {
   "cell_type": "code",
   "execution_count": 15,
   "metadata": {
    "tags": [
     "ans_cell"
    ]
   },
   "outputs": [
    {
     "data": {
      "text/html": [
       "<div>\n",
       "<style scoped>\n",
       "    .dataframe tbody tr th:only-of-type {\n",
       "        vertical-align: middle;\n",
       "    }\n",
       "\n",
       "    .dataframe tbody tr th {\n",
       "        vertical-align: top;\n",
       "    }\n",
       "\n",
       "    .dataframe thead th {\n",
       "        text-align: right;\n",
       "    }\n",
       "</style>\n",
       "<table border=\"1\" class=\"dataframe\">\n",
       "  <thead>\n",
       "    <tr style=\"text-align: right;\">\n",
       "      <th></th>\n",
       "      <th>BOROUGH</th>\n",
       "      <th>VEHICLE</th>\n",
       "      <th>0</th>\n",
       "    </tr>\n",
       "  </thead>\n",
       "  <tbody>\n",
       "    <tr>\n",
       "      <th>0</th>\n",
       "      <td>BROOKLYN</td>\n",
       "      <td>Sedan</td>\n",
       "      <td>39459</td>\n",
       "    </tr>\n",
       "    <tr>\n",
       "      <th>1</th>\n",
       "      <td>QUEENS</td>\n",
       "      <td>Sedan</td>\n",
       "      <td>35103</td>\n",
       "    </tr>\n",
       "    <tr>\n",
       "      <th>2</th>\n",
       "      <td>BROOKLYN</td>\n",
       "      <td>Station Wagon/Sport Utility Vehicle</td>\n",
       "      <td>32262</td>\n",
       "    </tr>\n",
       "    <tr>\n",
       "      <th>3</th>\n",
       "      <td>QUEENS</td>\n",
       "      <td>Station Wagon/Sport Utility Vehicle</td>\n",
       "      <td>31647</td>\n",
       "    </tr>\n",
       "    <tr>\n",
       "      <th>4</th>\n",
       "      <td>MANHATTAN</td>\n",
       "      <td>Sedan</td>\n",
       "      <td>20727</td>\n",
       "    </tr>\n",
       "    <tr>\n",
       "      <th>5</th>\n",
       "      <td>BRONX</td>\n",
       "      <td>Sedan</td>\n",
       "      <td>19652</td>\n",
       "    </tr>\n",
       "    <tr>\n",
       "      <th>6</th>\n",
       "      <td>MANHATTAN</td>\n",
       "      <td>Station Wagon/Sport Utility Vehicle</td>\n",
       "      <td>16432</td>\n",
       "    </tr>\n",
       "    <tr>\n",
       "      <th>7</th>\n",
       "      <td>BRONX</td>\n",
       "      <td>Station Wagon/Sport Utility Vehicle</td>\n",
       "      <td>15434</td>\n",
       "    </tr>\n",
       "    <tr>\n",
       "      <th>8</th>\n",
       "      <td>BROOKLYN</td>\n",
       "      <td>PASSENGER VEHICLE</td>\n",
       "      <td>10177</td>\n",
       "    </tr>\n",
       "    <tr>\n",
       "      <th>9</th>\n",
       "      <td>MANHATTAN</td>\n",
       "      <td>Taxi</td>\n",
       "      <td>8989</td>\n",
       "    </tr>\n",
       "  </tbody>\n",
       "</table>\n",
       "</div>"
      ],
      "text/plain": [
       "     BOROUGH                              VEHICLE      0\n",
       "0   BROOKLYN                                Sedan  39459\n",
       "1     QUEENS                                Sedan  35103\n",
       "2   BROOKLYN  Station Wagon/Sport Utility Vehicle  32262\n",
       "3     QUEENS  Station Wagon/Sport Utility Vehicle  31647\n",
       "4  MANHATTAN                                Sedan  20727\n",
       "5      BRONX                                Sedan  19652\n",
       "6  MANHATTAN  Station Wagon/Sport Utility Vehicle  16432\n",
       "7      BRONX  Station Wagon/Sport Utility Vehicle  15434\n",
       "8   BROOKLYN                    PASSENGER VEHICLE  10177\n",
       "9  MANHATTAN                                 Taxi   8989"
      ]
     },
     "execution_count": 15,
     "metadata": {},
     "output_type": "execute_result"
    }
   ],
   "source": [
    "columns = ['VEHICLE TYPE CODE 1', 'VEHICLE TYPE CODE 2', 'VEHICLE TYPE CODE 3',\n",
    "           'VEHICLE TYPE CODE 4', 'VEHICLE TYPE CODE 5',]\n",
    "\n",
    "# Concatenate all corresponding frames.\n",
    "frames=[df[['BOROUGH',column]].rename(columns={'BOROUGH':'BOROUGH',column:'VEHICLE'}) for column in columns]\n",
    "vehicles_df=pd.concat(frames).reset_index()\n",
    "\n",
    "#Count repetitions\n",
    "no_rep_vehicles=vehicles_df.groupby(['index','BOROUGH','VEHICLE']).size().reset_index()\n",
    "\n",
    "#Then get rid of these\n",
    "final_df=no_rep_vehicles.groupby(['BOROUGH','VEHICLE']).size().sort_values(ascending=False).reset_index()\n",
    "\n",
    "final_df.head(10)"
   ]
  },
  {
   "cell_type": "markdown",
   "metadata": {
    "tags": [
     "ans_cell"
    ]
   },
   "source": [
    "We can see that `Sedan` and `Station Wagon/Sport Utility Vehicle` are clear winners for causing the highest number of accidents, and that this does not differ across boroughs."
   ]
  },
  {
   "cell_type": "markdown",
   "metadata": {},
   "source": [
    "### Exercise 11 (15 min):\n",
    "\n",
    "In a 2018 [interview](https://www.nytimes.com/2019/01/01/nyregion/traffic-deaths-decrease-nyc.html) with The New York Times, New York's mayor de Blasio stated that *'Vision Zero is clearly working'*. That year, the number of deaths in traffic accidents in NYC dropped to a historical 202. Yet, as reported by [am New York Metro](https://www.amny.com/news/vision-zero-de-blasio-1-30707464/), the number of fatalities has increased by 30% in the first quarter of 2019 compared to the previous year and the number of pedestrians and cyclist injured has not seen any improvement.\n",
    "\n",
    "How would you use the provided data to understand what went wrong in the first quarter of 2019?\n",
    "\n",
    "> - [ ] Consider the accidents of the first quarter of 2019. Then, check for the most common causes of accidents where pedestrians and cyclists were involved. Give a recommendation based solely on this information. \n",
    "\n",
    "> - [ ] Create a pair of heatmaps of the accidents involving injured/killed pedestrians and cyclists in the first quarter of 2018 and 2019. Compare these two to see if there is any change in the concentration of accidents. In critical areas, study the type of factors involved in the accidents. Give a recommendation to visit these areas to study the problem further.    \n",
    "\n",
    "> - [ ] The provided data is insufficient to improve our understanding of the situation.\n",
    "\n",
    "> - [ ] None of the above. I would do the following: *here your recommended answer*."
   ]
  },
  {
   "cell_type": "markdown",
   "metadata": {
    "tags": [
     "ans_st"
    ]
   },
   "source": [
    "**Answer.** Here is one possible solution.\n",
    "\n",
    "* The first answer is not viable as we are not taking into account possible changes the Vision Zero program implemented after the first quarter of 2018.\n",
    "\n",
    "* The second answer is more nuanced as it is trying to understand first what changes might had happend after the first quarter of 2018. Then, it concetrates in important areas of the city and then suggests a visit to improve understanding of the situation. \n",
    "\n",
    "* The third answer is not correct. Even though the provided data may not completely answer what went wrong in the first quarter of 2019, it may provide hints of where to look and avoid unnecessary work.\n",
    "\n",
    "* Your answer may also be valid. There is not always a single approach for the understanding of problems like this one."
   ]
  },
  {
   "cell_type": "markdown",
   "metadata": {},
   "source": [
    "### Exercise 12 (45 min):\n",
    "\n",
    "Calculate the number of deaths caused by each type of vehicle. Plot a bar chart for the top 5 vehicles. Which vehicles are most often involved in deaths, and by how much more than the others?\n",
    "\n",
    "**For example,** if two people died at an accident where 5 vehicles were involved: 4 are PASSENGER VEHICLE and 1 is a SPORT UTILITY/STATION WAGON. Then, we would add two deaths to each PASSENGER VEHICLE and SPORT UTILITY/STATION WAGON types.\n",
    "\n",
    "**Hint:** You may want to create a new column with the total number of kills in the accident. For that you may find the function ```.to_numpy()``` useful. Then, proceed as the previous excercises to avoid double-counting the type of vehicles. "
   ]
  },
  {
   "cell_type": "markdown",
   "metadata": {
    "tags": [
     "ans_st"
    ]
   },
   "source": [
    "**Answer.** One possible solution is given below:"
   ]
  },
  {
   "cell_type": "code",
   "execution_count": 16,
   "metadata": {
    "tags": [
     "ans_cell"
    ]
   },
   "outputs": [
    {
     "data": {
      "text/html": [
       "<div>\n",
       "<style scoped>\n",
       "    .dataframe tbody tr th:only-of-type {\n",
       "        vertical-align: middle;\n",
       "    }\n",
       "\n",
       "    .dataframe tbody tr th {\n",
       "        vertical-align: top;\n",
       "    }\n",
       "\n",
       "    .dataframe thead th {\n",
       "        text-align: right;\n",
       "    }\n",
       "</style>\n",
       "<table border=\"1\" class=\"dataframe\">\n",
       "  <thead>\n",
       "    <tr style=\"text-align: right;\">\n",
       "      <th></th>\n",
       "      <th>VEHICLE</th>\n",
       "      <th>TOTAL_KILLED</th>\n",
       "    </tr>\n",
       "  </thead>\n",
       "  <tbody>\n",
       "    <tr>\n",
       "      <th>0</th>\n",
       "      <td>Station Wagon/Sport Utility Vehicle</td>\n",
       "      <td>87</td>\n",
       "    </tr>\n",
       "    <tr>\n",
       "      <th>1</th>\n",
       "      <td>Sedan</td>\n",
       "      <td>65</td>\n",
       "    </tr>\n",
       "    <tr>\n",
       "      <th>2</th>\n",
       "      <td>Motorcycle</td>\n",
       "      <td>22</td>\n",
       "    </tr>\n",
       "    <tr>\n",
       "      <th>3</th>\n",
       "      <td>PASSENGER VEHICLE</td>\n",
       "      <td>21</td>\n",
       "    </tr>\n",
       "    <tr>\n",
       "      <th>4</th>\n",
       "      <td>SPORT UTILITY / STATION WAGON</td>\n",
       "      <td>20</td>\n",
       "    </tr>\n",
       "    <tr>\n",
       "      <th>5</th>\n",
       "      <td>Bike</td>\n",
       "      <td>19</td>\n",
       "    </tr>\n",
       "    <tr>\n",
       "      <th>6</th>\n",
       "      <td>Bus</td>\n",
       "      <td>10</td>\n",
       "    </tr>\n",
       "    <tr>\n",
       "      <th>7</th>\n",
       "      <td>Box Truck</td>\n",
       "      <td>8</td>\n",
       "    </tr>\n",
       "    <tr>\n",
       "      <th>8</th>\n",
       "      <td>Pick-up Truck</td>\n",
       "      <td>8</td>\n",
       "    </tr>\n",
       "    <tr>\n",
       "      <th>9</th>\n",
       "      <td>Taxi</td>\n",
       "      <td>5</td>\n",
       "    </tr>\n",
       "  </tbody>\n",
       "</table>\n",
       "</div>"
      ],
      "text/plain": [
       "                               VEHICLE  TOTAL_KILLED\n",
       "0  Station Wagon/Sport Utility Vehicle            87\n",
       "1                                Sedan            65\n",
       "2                           Motorcycle            22\n",
       "3                    PASSENGER VEHICLE            21\n",
       "4        SPORT UTILITY / STATION WAGON            20\n",
       "5                                 Bike            19\n",
       "6                                  Bus            10\n",
       "7                            Box Truck             8\n",
       "8                        Pick-up Truck             8\n",
       "9                                 Taxi             5"
      ]
     },
     "execution_count": 16,
     "metadata": {},
     "output_type": "execute_result"
    }
   ],
   "source": [
    "columns = ['VEHICLE TYPE CODE 1', 'VEHICLE TYPE CODE 2', 'VEHICLE TYPE CODE 3',\n",
    "           'VEHICLE TYPE CODE 4', 'VEHICLE TYPE CODE 5',]\n",
    "\n",
    "killed_columns=['NUMBER OF PEDESTRIANS KILLED', 'NUMBER OF CYCLIST KILLED', 'NUMBER OF MOTORIST KILLED']\n",
    "\n",
    "#Create a new column with the total of kills.\n",
    "TOTAL=0\n",
    "for column in killed_columns:\n",
    "    TOTAL+=df[column].to_numpy()\n",
    "df['TOTAL_KILLED']=pd.DataFrame(TOTAL)\n",
    "\n",
    "#Get rid of the accidents with no deaths. This might increase efficiency in further computations.\n",
    "deaths_df=df[columns+['TOTAL_KILLED']]\n",
    "deaths_df=deaths_df[deaths_df['TOTAL_KILLED']>0]\n",
    "\n",
    "#Next, we get rid of the repetitions of vehicles in a single accident\n",
    "frames=[deaths_df[['TOTAL_KILLED',column]].rename(columns={column:'VEHICLE'}) for column in columns]\n",
    "vehicles_df=pd.concat(frames).reset_index()\n",
    "vehicles_norep_df=vehicles_df.groupby(['index','TOTAL_KILLED','VEHICLE']).size().reset_index()\n",
    "vehicles_norep_df=vehicles_norep_df[['TOTAL_KILLED','VEHICLE']]\n",
    "\n",
    "#Finally, we count the number of deaths\n",
    "final_df=vehicles_norep_df.groupby('VEHICLE').sum().sort_values(['TOTAL_KILLED'], ascending=False).reset_index()\n",
    "final_df.head(10)"
   ]
  },
  {
   "cell_type": "markdown",
   "metadata": {
    "tags": [
     "ans_cell"
    ]
   },
   "source": [
    "Notice that ```SPORT UTILITY / STATION WAGON``` is essentially the same as ```Station Wagon/Sport Utility Vehicle```. Later in the course we will see how to properly clean errors like this  in the data. For now, let us omit this fact and continue with the analysis. "
   ]
  },
  {
   "cell_type": "code",
   "execution_count": 17,
   "metadata": {
    "tags": [
     "ans_cell"
    ]
   },
   "outputs": [
    {
     "data": {
      "text/plain": [
       "[Text(0, 0, 'Station Wagon/Sport Utility Vehicle'),\n",
       " Text(1, 0, 'Sedan'),\n",
       " Text(2, 0, 'Motorcycle'),\n",
       " Text(3, 0, 'PASSENGER VEHICLE'),\n",
       " Text(4, 0, 'SPORT UTILITY / STATION WAGON')]"
      ]
     },
     "execution_count": 17,
     "metadata": {},
     "output_type": "execute_result"
    },
    {
     "data": {
      "image/png": "[encoded data removed]",
      "text/plain": [
       "<Figure size 640x480 with 1 Axes>"
      ]
     },
     "metadata": {},
     "output_type": "display_data"
    }
   ],
   "source": [
    "#Finally, we plot the data\n",
    "barplot = sns.barplot(data=final_df[:5], x='VEHICLE', y='TOTAL_KILLED')\n",
    "barplot.set_xticklabels(barplot.get_xticklabels(), rotation=90)"
   ]
  },
  {
   "cell_type": "markdown",
   "metadata": {
    "tags": [
     "ans_cell"
    ]
   },
   "source": [
    "It appears that `Station Wagon/Sport Utility Vehicle` and `Sedan` cause the most deaths. The former causes 4 times as many deaths as the other vehicles, and the latter causes 3 times as many deaths as the other vehicles."
   ]
  }
 ],
 "metadata": {
  "kernelspec": {
   "display_name": "Python 3 (ipykernel)",
   "language": "python",
   "name": "python3"
  },
  "language_info": {
   "codemirror_mode": {
    "name": "ipython",
    "version": 3
   },
   "file_extension": ".py",
   "mimetype": "text/x-python",
   "name": "python",
   "nbconvert_exporter": "python",
   "pygments_lexer": "ipython3",
   "version": "3.9.13"
  }
 },
 "nbformat": 4,
 "nbformat_minor": 2
}
